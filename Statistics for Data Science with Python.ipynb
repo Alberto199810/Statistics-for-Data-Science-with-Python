{
 "cells": [
  {
   "cell_type": "markdown",
   "id": "9ff89f73",
   "metadata": {},
   "source": [
    "# IBM - Statistics for Data Science with Python"
   ]
  },
  {
   "cell_type": "markdown",
   "id": "37ab4c84",
   "metadata": {},
   "source": [
    "# 0. Importing Packages"
   ]
  },
  {
   "cell_type": "code",
   "execution_count": 1,
   "id": "7e245703",
   "metadata": {},
   "outputs": [],
   "source": [
    "import numpy as np\n",
    "import pandas as pd\n",
    "import matplotlib.pyplot as plt\n",
    "import seaborn as sns\n",
    "import statsmodels.api as sm\n",
    "import datetime\n",
    "import scipy.stats\n",
    "\n",
    "import warnings\n",
    "warnings.filterwarnings('ignore')"
   ]
  },
  {
   "cell_type": "markdown",
   "id": "09841e80",
   "metadata": {},
   "source": [
    "# 1. Loading Dataset"
   ]
  },
  {
   "cell_type": "markdown",
   "id": "a460717e",
   "metadata": {},
   "source": [
    "The following describes the dataset variables:\n",
    "\n",
    "- CRIM - per capita crime rate by town\n",
    "\n",
    "- ZN - proportion of residential land zoned for lots over 25,000 sq.ft.\n",
    "\n",
    "- INDUS - proportion of non-retail business acres per town.\n",
    "\n",
    "- CHAS - Charles River dummy variable (1 if tract bounds river; 0 otherwise)\n",
    "\n",
    "- NOX - nitric oxides concentration (parts per 10 million)\n",
    "\n",
    "- RM - average number of rooms per dwelling\n",
    "\n",
    "- AGE - proportion of owner-occupied units built prior to 1940\n",
    "\n",
    "- DIS - weighted distances to five Boston employment centres\n",
    "\n",
    "- RAD - index of accessibility to radial highways\n",
    "\n",
    "- TAX - full-value property-tax rate per $10,000\n",
    "\n",
    "- PTRATIO - pupil-teacher ratio by town\n",
    "\n",
    "- LSTAT - % lower status of the population\n",
    "\n",
    "- MEDV - Median value of owner-occupied homes in $1000's"
   ]
  },
  {
   "cell_type": "code",
   "execution_count": 2,
   "id": "3590cb70",
   "metadata": {},
   "outputs": [],
   "source": [
    "boston_url = 'https://cf-courses-data.s3.us.cloud-object-storage.appdomain.cloud/IBMDeveloperSkillsNetwork-ST0151EN-SkillsNetwork/labs/boston_housing.csv'\n",
    "boston_df = pd.read_csv(boston_url).drop(['Unnamed: 0'], axis = 1)"
   ]
  },
  {
   "cell_type": "code",
   "execution_count": 3,
   "id": "bf3f0fdd",
   "metadata": {},
   "outputs": [
    {
     "data": {
      "text/html": [
       "<div>\n",
       "<style scoped>\n",
       "    .dataframe tbody tr th:only-of-type {\n",
       "        vertical-align: middle;\n",
       "    }\n",
       "\n",
       "    .dataframe tbody tr th {\n",
       "        vertical-align: top;\n",
       "    }\n",
       "\n",
       "    .dataframe thead th {\n",
       "        text-align: right;\n",
       "    }\n",
       "</style>\n",
       "<table border=\"1\" class=\"dataframe\">\n",
       "  <thead>\n",
       "    <tr style=\"text-align: right;\">\n",
       "      <th></th>\n",
       "      <th>CRIM</th>\n",
       "      <th>ZN</th>\n",
       "      <th>INDUS</th>\n",
       "      <th>CHAS</th>\n",
       "      <th>NOX</th>\n",
       "      <th>RM</th>\n",
       "      <th>AGE</th>\n",
       "      <th>DIS</th>\n",
       "      <th>RAD</th>\n",
       "      <th>TAX</th>\n",
       "      <th>PTRATIO</th>\n",
       "      <th>LSTAT</th>\n",
       "      <th>MEDV</th>\n",
       "    </tr>\n",
       "  </thead>\n",
       "  <tbody>\n",
       "    <tr>\n",
       "      <th>0</th>\n",
       "      <td>0.00632</td>\n",
       "      <td>18.0</td>\n",
       "      <td>2.31</td>\n",
       "      <td>0.0</td>\n",
       "      <td>0.538</td>\n",
       "      <td>6.575</td>\n",
       "      <td>65.2</td>\n",
       "      <td>4.0900</td>\n",
       "      <td>1.0</td>\n",
       "      <td>296.0</td>\n",
       "      <td>15.3</td>\n",
       "      <td>4.98</td>\n",
       "      <td>24.0</td>\n",
       "    </tr>\n",
       "    <tr>\n",
       "      <th>1</th>\n",
       "      <td>0.02731</td>\n",
       "      <td>0.0</td>\n",
       "      <td>7.07</td>\n",
       "      <td>0.0</td>\n",
       "      <td>0.469</td>\n",
       "      <td>6.421</td>\n",
       "      <td>78.9</td>\n",
       "      <td>4.9671</td>\n",
       "      <td>2.0</td>\n",
       "      <td>242.0</td>\n",
       "      <td>17.8</td>\n",
       "      <td>9.14</td>\n",
       "      <td>21.6</td>\n",
       "    </tr>\n",
       "    <tr>\n",
       "      <th>2</th>\n",
       "      <td>0.02729</td>\n",
       "      <td>0.0</td>\n",
       "      <td>7.07</td>\n",
       "      <td>0.0</td>\n",
       "      <td>0.469</td>\n",
       "      <td>7.185</td>\n",
       "      <td>61.1</td>\n",
       "      <td>4.9671</td>\n",
       "      <td>2.0</td>\n",
       "      <td>242.0</td>\n",
       "      <td>17.8</td>\n",
       "      <td>4.03</td>\n",
       "      <td>34.7</td>\n",
       "    </tr>\n",
       "    <tr>\n",
       "      <th>3</th>\n",
       "      <td>0.03237</td>\n",
       "      <td>0.0</td>\n",
       "      <td>2.18</td>\n",
       "      <td>0.0</td>\n",
       "      <td>0.458</td>\n",
       "      <td>6.998</td>\n",
       "      <td>45.8</td>\n",
       "      <td>6.0622</td>\n",
       "      <td>3.0</td>\n",
       "      <td>222.0</td>\n",
       "      <td>18.7</td>\n",
       "      <td>2.94</td>\n",
       "      <td>33.4</td>\n",
       "    </tr>\n",
       "    <tr>\n",
       "      <th>4</th>\n",
       "      <td>0.06905</td>\n",
       "      <td>0.0</td>\n",
       "      <td>2.18</td>\n",
       "      <td>0.0</td>\n",
       "      <td>0.458</td>\n",
       "      <td>7.147</td>\n",
       "      <td>54.2</td>\n",
       "      <td>6.0622</td>\n",
       "      <td>3.0</td>\n",
       "      <td>222.0</td>\n",
       "      <td>18.7</td>\n",
       "      <td>5.33</td>\n",
       "      <td>36.2</td>\n",
       "    </tr>\n",
       "  </tbody>\n",
       "</table>\n",
       "</div>"
      ],
      "text/plain": [
       "      CRIM    ZN  INDUS  CHAS    NOX     RM   AGE     DIS  RAD    TAX  \\\n",
       "0  0.00632  18.0   2.31   0.0  0.538  6.575  65.2  4.0900  1.0  296.0   \n",
       "1  0.02731   0.0   7.07   0.0  0.469  6.421  78.9  4.9671  2.0  242.0   \n",
       "2  0.02729   0.0   7.07   0.0  0.469  7.185  61.1  4.9671  2.0  242.0   \n",
       "3  0.03237   0.0   2.18   0.0  0.458  6.998  45.8  6.0622  3.0  222.0   \n",
       "4  0.06905   0.0   2.18   0.0  0.458  7.147  54.2  6.0622  3.0  222.0   \n",
       "\n",
       "   PTRATIO  LSTAT  MEDV  \n",
       "0     15.3   4.98  24.0  \n",
       "1     17.8   9.14  21.6  \n",
       "2     17.8   4.03  34.7  \n",
       "3     18.7   2.94  33.4  \n",
       "4     18.7   5.33  36.2  "
      ]
     },
     "execution_count": 3,
     "metadata": {},
     "output_type": "execute_result"
    }
   ],
   "source": [
    "boston_df.head()"
   ]
  },
  {
   "cell_type": "markdown",
   "id": "98dac5d6",
   "metadata": {},
   "source": [
    "# 2. Descriptive Statistics and Visualizations"
   ]
  },
  {
   "cell_type": "markdown",
   "id": "0e8804b8",
   "metadata": {},
   "source": [
    "#### 2.1 For the \"Median value of owner-occupied homes\" provide a boxplot"
   ]
  },
  {
   "cell_type": "code",
   "execution_count": 4,
   "id": "3e1bb3e3",
   "metadata": {},
   "outputs": [
    {
     "data": {
      "image/png": "[encoded data removed]",
      "text/plain": [
       "<Figure size 1000x500 with 1 Axes>"
      ]
     },
     "metadata": {},
     "output_type": "display_data"
    }
   ],
   "source": [
    "plt.figure(figsize=(10,5))\n",
    "sns.boxplot(x=boston_df.MEDV)\n",
    "plt.title(\"Boxplot for MEDV\")\n",
    "plt.show()"
   ]
  },
  {
   "cell_type": "markdown",
   "id": "0f5b7df4",
   "metadata": {},
   "source": [
    "#### 2.2 Provide a  bar plot for the Charles river variable"
   ]
  },
  {
   "cell_type": "code",
   "execution_count": 5,
   "id": "b949c0ea",
   "metadata": {},
   "outputs": [],
   "source": [
    "temp = boston_df.groupby(['CHAS']).size().reset_index()\n",
    "temp.columns = ['CHAS','value']"
   ]
  },
  {
   "cell_type": "code",
   "execution_count": 6,
   "id": "19f3860d",
   "metadata": {},
   "outputs": [
    {
     "data": {
      "image/png": "[encoded data removed]",
      "text/plain": [
       "<Figure size 1000x500 with 1 Axes>"
      ]
     },
     "metadata": {},
     "output_type": "display_data"
    }
   ],
   "source": [
    "#Provide a histogram for the Charles river variable\n",
    "plt.figure(figsize=(10,5))\n",
    "sns.barplot(temp, x=\"CHAS\", y=\"value\")\n",
    "plt.title(\"BarPlot for Charles river\")\n",
    "plt.show()"
   ]
  },
  {
   "cell_type": "markdown",
   "id": "58737f6f",
   "metadata": {},
   "source": [
    "#### 2.3 Provide a boxplot for the MEDV variable vs the AGE variable. (Discretize the age variable into three groups of 35 years and younger, between 35 and 70 years and 70 years and older)"
   ]
  },
  {
   "cell_type": "code",
   "execution_count": 7,
   "id": "cd016f68",
   "metadata": {},
   "outputs": [],
   "source": [
    "boston_df.loc[(boston_df[\"AGE\"] <= 35),'age_group'] = '35 years and younger'\n",
    "boston_df.loc[(boston_df[\"AGE\"] > 35) & (boston_df[\"AGE\"]<70),'age_group'] = 'between 35 and 70 years'\n",
    "boston_df.loc[(boston_df[\"AGE\"] >= 70),'age_group'] = '70 years and older'"
   ]
  },
  {
   "cell_type": "code",
   "execution_count": 8,
   "id": "17f56e97",
   "metadata": {},
   "outputs": [
    {
     "data": {
      "image/png": "[encoded data removed]",
      "text/plain": [
       "<Figure size 1000x500 with 1 Axes>"
      ]
     },
     "metadata": {},
     "output_type": "display_data"
    }
   ],
   "source": [
    "plt.figure(figsize=(10,5))\n",
    "sns.boxplot(x=boston_df.MEDV, y=boston_df.age_group, data=boston_df)\n",
    "plt.title(\"Boxplot for the MEDV variable vs the AGE variable\")\n",
    "plt.show()"
   ]
  },
  {
   "cell_type": "markdown",
   "id": "6cd77227",
   "metadata": {},
   "source": [
    "#### 2.4 Provide a scatter plot to show the relationship between Nitric oxide concentrations and the proportion of non-retail business acres per town. What can you say about the relationship?"
   ]
  },
  {
   "cell_type": "code",
   "execution_count": 9,
   "id": "a988a52c",
   "metadata": {},
   "outputs": [
    {
     "data": {
      "image/png": "[encoded data removed]",
      "text/plain": [
       "<Figure size 1000x500 with 1 Axes>"
      ]
     },
     "metadata": {},
     "output_type": "display_data"
    }
   ],
   "source": [
    "plt.figure(figsize=(10,5))\n",
    "sns.scatterplot(x=boston_df.NOX, y=boston_df.INDUS, data=boston_df)\n",
    "plt.title(\"Relationship between NOX and INDUS\")\n",
    "plt.show()"
   ]
  },
  {
   "cell_type": "markdown",
   "id": "a6ffa043",
   "metadata": {},
   "source": [
    "#### 2.5 Create a histogram for the pupil to teacher ratio variable"
   ]
  },
  {
   "cell_type": "code",
   "execution_count": 10,
   "id": "1101e4e2",
   "metadata": {},
   "outputs": [
    {
     "data": {
      "image/png": "[encoded data removed]",
      "text/plain": [
       "<Figure size 1000x500 with 1 Axes>"
      ]
     },
     "metadata": {},
     "output_type": "display_data"
    }
   ],
   "source": [
    "plt.figure(figsize=(10,5))\n",
    "sns.distplot(a=boston_df.PTRATIO,bins=10, kde=False)\n",
    "plt.title(\"Histogram for the pupil to teacher ratio variable\")\n",
    "plt.show()"
   ]
  },
  {
   "cell_type": "markdown",
   "id": "4074cef3",
   "metadata": {},
   "source": [
    "# 3. Statistical Analysis"
   ]
  },
  {
   "cell_type": "markdown",
   "id": "1708909c",
   "metadata": {},
   "source": [
    "Be sure to:\n",
    "\n",
    "- State your hypothesis.\n",
    "\n",
    "- Use α = 0.05\n",
    "\n",
    "- Perform the test Statistics.\n",
    "\n",
    "- State the conclusion from the test."
   ]
  },
  {
   "cell_type": "markdown",
   "id": "f76b1a89",
   "metadata": {},
   "source": [
    "#### 3.1 Is there a significant difference in median value of houses bounded by the Charles river or not? (T-test for independent samples)"
   ]
  },
  {
   "cell_type": "markdown",
   "id": "1d6a951b",
   "metadata": {},
   "source": [
    "Null Hypothesis (H0): Both average MEDV are the same\n",
    "\n",
    "Alternative Hypothesis (H1): Both average MEDV are NOT the same"
   ]
  },
  {
   "cell_type": "code",
   "execution_count": 11,
   "id": "a6ed6009",
   "metadata": {},
   "outputs": [
    {
     "name": "stdout",
     "output_type": "stream",
     "text": [
      "22.093842887473464\n",
      "28.439999999999998\n"
     ]
    }
   ],
   "source": [
    "print(boston_df[boston_df[\"CHAS\"] == 0][\"MEDV\"].mean())\n",
    "print(boston_df[boston_df[\"CHAS\"] == 1][\"MEDV\"].mean())"
   ]
  },
  {
   "cell_type": "markdown",
   "id": "5c9e0b2b",
   "metadata": {},
   "source": [
    "First, Levene's test will be conducted to determine if the two groups have equal variances."
   ]
  },
  {
   "cell_type": "code",
   "execution_count": 12,
   "id": "37e01e9f",
   "metadata": {},
   "outputs": [
    {
     "data": {
      "text/plain": [
       "LeveneResult(statistic=8.75190489604598, pvalue=0.003238119367639829)"
      ]
     },
     "execution_count": 12,
     "metadata": {},
     "output_type": "execute_result"
    }
   ],
   "source": [
    "scipy.stats.levene(boston_df[boston_df['CHAS'] == 0]['MEDV'],\n",
    "                   boston_df[boston_df['CHAS'] == 1]['MEDV'],\n",
    "                   center='mean'\n",
    ")"
   ]
  },
  {
   "cell_type": "markdown",
   "id": "dba9d650",
   "metadata": {},
   "source": [
    "The P value of Levene's test is less than 0.05, so we have to reject the null hzypothesis and assume the two populations do not have equal variances.\n",
    "\n",
    "The t-test is then conducted, with equal_var = False"
   ]
  },
  {
   "cell_type": "code",
   "execution_count": 13,
   "id": "14173f0e",
   "metadata": {},
   "outputs": [
    {
     "data": {
      "text/plain": [
       "TtestResult(statistic=-3.113291312794837, pvalue=0.003567170098137517, df=36.876408797611994)"
      ]
     },
     "execution_count": 13,
     "metadata": {},
     "output_type": "execute_result"
    }
   ],
   "source": [
    "not_bound = boston_df[boston_df[\"CHAS\"] == 0][\"MEDV\"]\n",
    "bound = boston_df[boston_df[\"CHAS\"] == 1][\"MEDV\"]\n",
    "\n",
    "scipy.stats.ttest_ind(not_bound,bound,equal_var=False)"
   ]
  },
  {
   "cell_type": "markdown",
   "id": "ec8df9d2",
   "metadata": {},
   "source": [
    "Since p-value is lower than alpha value of 0.05, we can reject the Null hypothesis and say that there a significant difference in median value of houses bounded by the Charles river."
   ]
  },
  {
   "cell_type": "markdown",
   "id": "8a52f199",
   "metadata": {},
   "source": [
    "#### 3.2 Is there a difference in Median values of houses (MEDV) for each proportion of owner occupied units built prior to 1940 (AGE)? (ANOVA)"
   ]
  },
  {
   "cell_type": "markdown",
   "id": "768f90d3",
   "metadata": {},
   "source": [
    "Null Hypothesis (H0): The three population means are equal\n",
    "\n",
    "Alternative Hypothesis (H1):  At least one of the means differ"
   ]
  },
  {
   "cell_type": "code",
   "execution_count": 14,
   "id": "6d1b7bb8",
   "metadata": {},
   "outputs": [
    {
     "name": "stdout",
     "output_type": "stream",
     "text": [
      "27.77582417582417\n",
      "24.94765625\n",
      "19.793379790940765\n"
     ]
    }
   ],
   "source": [
    "print(boston_df[boston_df[\"age_group\"] == '35 years and younger'][\"MEDV\"].mean())\n",
    "print(boston_df[boston_df[\"age_group\"] == 'between 35 and 70 years'][\"MEDV\"].mean())\n",
    "print(boston_df[boston_df[\"age_group\"] == '70 years and older'][\"MEDV\"].mean())"
   ]
  },
  {
   "cell_type": "markdown",
   "id": "d7b4cf21",
   "metadata": {},
   "source": [
    "Again, we have to conduct Levene's to assess one of the most important assumptions to take ANOVA's results as valid: we have to determine if there is equality of variance between the three groups."
   ]
  },
  {
   "cell_type": "code",
   "execution_count": 15,
   "id": "5ab0e3a6",
   "metadata": {},
   "outputs": [
    {
     "data": {
      "text/plain": [
       "LeveneResult(statistic=2.7806200293748304, pvalue=0.06295337343259205)"
      ]
     },
     "execution_count": 15,
     "metadata": {},
     "output_type": "execute_result"
    }
   ],
   "source": [
    "scipy.stats.levene(boston_df[boston_df['age_group'] == '35 years and younger']['MEDV'],\n",
    "                   boston_df[boston_df['age_group'] == 'between 35 and 70 years']['MEDV'], \n",
    "                   boston_df[boston_df['age_group'] == '70 years and older']['MEDV'], \n",
    "                   center='mean')"
   ]
  },
  {
   "cell_type": "markdown",
   "id": "c685b256",
   "metadata": {},
   "source": [
    "P-value is greater than 0.05, so we can assume equality of variance between the three groups. Now, let's run the ANOVA test."
   ]
  },
  {
   "cell_type": "code",
   "execution_count": 16,
   "id": "b4d846b0",
   "metadata": {},
   "outputs": [
    {
     "name": "stdout",
     "output_type": "stream",
     "text": [
      "F-Statistic=36.40764999196599, P-value=1.7105011022702984e-15\n"
     ]
    }
   ],
   "source": [
    "young = boston_df[boston_df[\"age_group\"] == '35 years and younger'][\"MEDV\"]\n",
    "mid = boston_df[boston_df[\"age_group\"] == 'between 35 and 70 years'][\"MEDV\"]\n",
    "old = boston_df[boston_df[\"age_group\"] == '70 years and older'][\"MEDV\"]\n",
    "\n",
    "f_stats, p_value = scipy.stats.f_oneway(young,mid,old)\n",
    "\n",
    "print(\"F-Statistic={0}, P-value={1}\".format(f_stats,p_value))"
   ]
  },
  {
   "cell_type": "markdown",
   "id": "a4ca8f65",
   "metadata": {},
   "source": [
    "Again, since p-value is lower than alpha value of 0.05, we can reject the Null hypothesis and say that at least one of the means between the discretized age-groups differs."
   ]
  },
  {
   "cell_type": "markdown",
   "id": "1f71a472",
   "metadata": {},
   "source": [
    "#### 3.3 Can we conclude that there is no relationship between Nitric oxide concentrations and proportion of non-retail business acres per town? (Pearson Correlation)"
   ]
  },
  {
   "cell_type": "markdown",
   "id": "2f1e61a7",
   "metadata": {},
   "source": [
    "Null Hypothesis (H0): NOX is not correlated with INDUS\n",
    "\n",
    "Alternative Hypothesis (H1): NOX is correlated with INDUS"
   ]
  },
  {
   "cell_type": "code",
   "execution_count": 17,
   "id": "43a9c1c3",
   "metadata": {},
   "outputs": [
    {
     "name": "stdout",
     "output_type": "stream",
     "text": [
      "Pearson Coefficient value=0.7636514469209149, P-value=7.913361061242812e-98\n"
     ]
    }
   ],
   "source": [
    "nox = boston_df[\"NOX\"]\n",
    "indus = boston_df[\"INDUS\"]\n",
    "\n",
    "pearson,p_value = scipy.stats.pearsonr(nox, indus)\n",
    "\n",
    "print(\"Pearson Coefficient value={0}, P-value={1}\".format(pearson,p_value))"
   ]
  },
  {
   "cell_type": "markdown",
   "id": "0d87bf81",
   "metadata": {},
   "source": [
    "Since the p-value is again lower than alpha value of 0.05, we can reject the Null hypothesis and conclude that there exists a relationship between Nitric Oxide and non-retail business acres per town."
   ]
  },
  {
   "cell_type": "markdown",
   "id": "c5a9fee1",
   "metadata": {},
   "source": [
    "#### 3.4 What is the impact of an additional weighted distance  to the five Boston employment centres on the median value of owner occupied homes? (Regression analysis)"
   ]
  },
  {
   "cell_type": "markdown",
   "id": "77100f59",
   "metadata": {},
   "source": [
    "Null Hypothesis (H0): weighted distances to the five Boston employment centres are not related to median value\n",
    "\n",
    "Alternative Hypothesis (H1): weighted distances to the five Boston employment centres are related to median value"
   ]
  },
  {
   "cell_type": "code",
   "execution_count": 18,
   "id": "2a26de0d",
   "metadata": {},
   "outputs": [
    {
     "data": {
      "text/html": [
       "<table class=\"simpletable\">\n",
       "<caption>OLS Regression Results</caption>\n",
       "<tr>\n",
       "  <th>Dep. Variable:</th>          <td>MEDV</td>       <th>  R-squared:         </th> <td>   0.062</td>\n",
       "</tr>\n",
       "<tr>\n",
       "  <th>Model:</th>                   <td>OLS</td>       <th>  Adj. R-squared:    </th> <td>   0.061</td>\n",
       "</tr>\n",
       "<tr>\n",
       "  <th>Method:</th>             <td>Least Squares</td>  <th>  F-statistic:       </th> <td>   33.58</td>\n",
       "</tr>\n",
       "<tr>\n",
       "  <th>Date:</th>             <td>Sat, 20 Jan 2024</td> <th>  Prob (F-statistic):</th> <td>1.21e-08</td>\n",
       "</tr>\n",
       "<tr>\n",
       "  <th>Time:</th>                 <td>16:12:33</td>     <th>  Log-Likelihood:    </th> <td> -1823.9</td>\n",
       "</tr>\n",
       "<tr>\n",
       "  <th>No. Observations:</th>      <td>   506</td>      <th>  AIC:               </th> <td>   3652.</td>\n",
       "</tr>\n",
       "<tr>\n",
       "  <th>Df Residuals:</th>          <td>   504</td>      <th>  BIC:               </th> <td>   3660.</td>\n",
       "</tr>\n",
       "<tr>\n",
       "  <th>Df Model:</th>              <td>     1</td>      <th>                     </th>     <td> </td>   \n",
       "</tr>\n",
       "<tr>\n",
       "  <th>Covariance Type:</th>      <td>nonrobust</td>    <th>                     </th>     <td> </td>   \n",
       "</tr>\n",
       "</table>\n",
       "<table class=\"simpletable\">\n",
       "<tr>\n",
       "    <td></td>       <th>coef</th>     <th>std err</th>      <th>t</th>      <th>P>|t|</th>  <th>[0.025</th>    <th>0.975]</th>  \n",
       "</tr>\n",
       "<tr>\n",
       "  <th>const</th> <td>   18.3901</td> <td>    0.817</td> <td>   22.499</td> <td> 0.000</td> <td>   16.784</td> <td>   19.996</td>\n",
       "</tr>\n",
       "<tr>\n",
       "  <th>DIS</th>   <td>    1.0916</td> <td>    0.188</td> <td>    5.795</td> <td> 0.000</td> <td>    0.722</td> <td>    1.462</td>\n",
       "</tr>\n",
       "</table>\n",
       "<table class=\"simpletable\">\n",
       "<tr>\n",
       "  <th>Omnibus:</th>       <td>139.779</td> <th>  Durbin-Watson:     </th> <td>   0.570</td>\n",
       "</tr>\n",
       "<tr>\n",
       "  <th>Prob(Omnibus):</th> <td> 0.000</td>  <th>  Jarque-Bera (JB):  </th> <td> 305.104</td>\n",
       "</tr>\n",
       "<tr>\n",
       "  <th>Skew:</th>          <td> 1.466</td>  <th>  Prob(JB):          </th> <td>5.59e-67</td>\n",
       "</tr>\n",
       "<tr>\n",
       "  <th>Kurtosis:</th>      <td> 5.424</td>  <th>  Cond. No.          </th> <td>    9.32</td>\n",
       "</tr>\n",
       "</table><br/><br/>Notes:<br/>[1] Standard Errors assume that the covariance matrix of the errors is correctly specified."
      ],
      "text/latex": [
       "\\begin{center}\n",
       "\\begin{tabular}{lclc}\n",
       "\\toprule\n",
       "\\textbf{Dep. Variable:}    &       MEDV       & \\textbf{  R-squared:         } &     0.062   \\\\\n",
       "\\textbf{Model:}            &       OLS        & \\textbf{  Adj. R-squared:    } &     0.061   \\\\\n",
       "\\textbf{Method:}           &  Least Squares   & \\textbf{  F-statistic:       } &     33.58   \\\\\n",
       "\\textbf{Date:}             & Sat, 20 Jan 2024 & \\textbf{  Prob (F-statistic):} &  1.21e-08   \\\\\n",
       "\\textbf{Time:}             &     16:12:33     & \\textbf{  Log-Likelihood:    } &   -1823.9   \\\\\n",
       "\\textbf{No. Observations:} &         506      & \\textbf{  AIC:               } &     3652.   \\\\\n",
       "\\textbf{Df Residuals:}     &         504      & \\textbf{  BIC:               } &     3660.   \\\\\n",
       "\\textbf{Df Model:}         &           1      & \\textbf{                     } &             \\\\\n",
       "\\textbf{Covariance Type:}  &    nonrobust     & \\textbf{                     } &             \\\\\n",
       "\\bottomrule\n",
       "\\end{tabular}\n",
       "\\begin{tabular}{lcccccc}\n",
       "               & \\textbf{coef} & \\textbf{std err} & \\textbf{t} & \\textbf{P$> |$t$|$} & \\textbf{[0.025} & \\textbf{0.975]}  \\\\\n",
       "\\midrule\n",
       "\\textbf{const} &      18.3901  &        0.817     &    22.499  &         0.000        &       16.784    &       19.996     \\\\\n",
       "\\textbf{DIS}   &       1.0916  &        0.188     &     5.795  &         0.000        &        0.722    &        1.462     \\\\\n",
       "\\bottomrule\n",
       "\\end{tabular}\n",
       "\\begin{tabular}{lclc}\n",
       "\\textbf{Omnibus:}       & 139.779 & \\textbf{  Durbin-Watson:     } &    0.570  \\\\\n",
       "\\textbf{Prob(Omnibus):} &   0.000 & \\textbf{  Jarque-Bera (JB):  } &  305.104  \\\\\n",
       "\\textbf{Skew:}          &   1.466 & \\textbf{  Prob(JB):          } & 5.59e-67  \\\\\n",
       "\\textbf{Kurtosis:}      &   5.424 & \\textbf{  Cond. No.          } &     9.32  \\\\\n",
       "\\bottomrule\n",
       "\\end{tabular}\n",
       "%\\caption{OLS Regression Results}\n",
       "\\end{center}\n",
       "\n",
       "Notes: \\newline\n",
       " [1] Standard Errors assume that the covariance matrix of the errors is correctly specified."
      ],
      "text/plain": [
       "<class 'statsmodels.iolib.summary.Summary'>\n",
       "\"\"\"\n",
       "                            OLS Regression Results                            \n",
       "==============================================================================\n",
       "Dep. Variable:                   MEDV   R-squared:                       0.062\n",
       "Model:                            OLS   Adj. R-squared:                  0.061\n",
       "Method:                 Least Squares   F-statistic:                     33.58\n",
       "Date:                Sat, 20 Jan 2024   Prob (F-statistic):           1.21e-08\n",
       "Time:                        16:12:33   Log-Likelihood:                -1823.9\n",
       "No. Observations:                 506   AIC:                             3652.\n",
       "Df Residuals:                     504   BIC:                             3660.\n",
       "Df Model:                           1                                         \n",
       "Covariance Type:            nonrobust                                         \n",
       "==============================================================================\n",
       "                 coef    std err          t      P>|t|      [0.025      0.975]\n",
       "------------------------------------------------------------------------------\n",
       "const         18.3901      0.817     22.499      0.000      16.784      19.996\n",
       "DIS            1.0916      0.188      5.795      0.000       0.722       1.462\n",
       "==============================================================================\n",
       "Omnibus:                      139.779   Durbin-Watson:                   0.570\n",
       "Prob(Omnibus):                  0.000   Jarque-Bera (JB):              305.104\n",
       "Skew:                           1.466   Prob(JB):                     5.59e-67\n",
       "Kurtosis:                       5.424   Cond. No.                         9.32\n",
       "==============================================================================\n",
       "\n",
       "Notes:\n",
       "[1] Standard Errors assume that the covariance matrix of the errors is correctly specified.\n",
       "\"\"\""
      ]
     },
     "execution_count": 18,
     "metadata": {},
     "output_type": "execute_result"
    }
   ],
   "source": [
    "X = boston_df['DIS']\n",
    "y = boston_df['MEDV']\n",
    "\n",
    "X = sm.add_constant(X) \n",
    "\n",
    "model = sm.OLS(y, X).fit()\n",
    "predictions = model.predict(X)\n",
    "\n",
    "model.summary()"
   ]
  },
  {
   "cell_type": "markdown",
   "id": "70354bf4",
   "metadata": {},
   "source": [
    "Firstly, The P-value 1.21e-08 is less than 0.05, so we can reject the null hypothesis and say that distance to employment centres does have an impact on median home values.\n",
    "\n",
    "Also, from what the model is saying, there is an additional impact of 1.0916 of weighted distance to the five Boston employment centres on the median value of owner occupied homes."
   ]
  }
 ],
 "metadata": {
  "kernelspec": {
   "display_name": "Python 3 (ipykernel)",
   "language": "python",
   "name": "python3"
  },
  "language_info": {
   "codemirror_mode": {
    "name": "ipython",
    "version": 3
   },
   "file_extension": ".py",
   "mimetype": "text/x-python",
   "name": "python",
   "nbconvert_exporter": "python",
   "pygments_lexer": "ipython3",
   "version": "3.11.5"
  }
 },
 "nbformat": 4,
 "nbformat_minor": 5
}
